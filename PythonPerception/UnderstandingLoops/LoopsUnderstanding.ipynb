{
 "cells": [
  {
   "cell_type": "markdown",
   "metadata": {},
   "source": [
    "# Understanding Loops With Different Programs"
   ]
  },
  {
   "cell_type": "code",
   "execution_count": 21,
   "metadata": {
    "ExecuteTime": {
     "end_time": "2021-05-29T05:43:38.295891Z",
     "start_time": "2021-05-29T05:43:36.348372Z"
    }
   },
   "outputs": [
    {
     "name": "stdout",
     "output_type": "stream",
     "text": [
      "Enter the number in range 0 - 9: 5\n",
      "five\n"
     ]
    }
   ],
   "source": [
    "#W. A P. which takes one number from 0 to 9 from the user and prints\n",
    "# it in the word. And if the word is not from 0 to 9 then\n",
    "# it should print that number is outside of the range and program should\n",
    "# exit.\n",
    "# For exapmple:-\n",
    "# input = 1\n",
    "# output = one'''\n",
    "\n",
    "\n",
    "\n",
    "number = input('Enter the number in range 0 - 9: ')\n",
    "lst = ['zero', 'one', 'two', 'three', 'four', 'five', 'six', 'seven', 'eight', 'nine']\n",
    "if number.isdecimal():\n",
    "    if 10>int(number)>-1:\n",
    "        print(lst[int(number)])\n",
    "    else:\n",
    "        print('Number entered is outside the range')\n",
    "else:\n",
    "    print('Enter the valid input')\n",
    "    "
   ]
  },
  {
   "cell_type": "code",
   "execution_count": null,
   "metadata": {
    "ExecuteTime": {
     "start_time": "2021-05-29T06:05:02.894Z"
    }
   },
   "outputs": [
    {
     "name": "stdout",
     "output_type": "stream",
     "text": [
      "Accepts integer or float value only\n",
      "Accepts integer or float value only\n"
     ]
    }
   ],
   "source": [
    "# W. A P. to implement calculator but the operation to be done and two\n",
    "# numbers will be taken as input from user:-\n",
    "# Operation console should show below:-\n",
    "# Please select any one operation from below:-\n",
    "# * To add enter 1\n",
    "# * to subtract enter 2\n",
    "# * To multiply enter 3\n",
    "# * To divide enter 4\n",
    "# * To divide and find quotient enter 5\n",
    "# * To divide and find remainder enter 6\n",
    "# * To divide and find num1 to the power of num2 enter 7\n",
    "# * To Come out of the program enter 8\n",
    "\n",
    "\n",
    "\n",
    "while True:\n",
    "    try:\n",
    "        num1 = eval(input('Enter the 1st number: '))\n",
    "        num2 = eval(input('Enter the 2nd number: '))\n",
    "    except:\n",
    "        print('Accepts integer or float value only')\n",
    "    else:\n",
    "        break\n",
    "        \n",
    "while True:\n",
    "    try:\n",
    "        \n",
    "        operation = eval(input('\\nPlease select any one operation from below:-\\n* To add enter 1\\n'+\n",
    "                    '* to subtract enter 2\\n* To multiply enter 3\\n* To divide enter 4'+\n",
    "                    '\\n* To divide and find quotient enter 5\\n* To divide and find remainder enter 6'+\n",
    "                    '\\n* To divide and find num1 to the power of num2 enter 7\\n* To Come out of the program enter 8\\n'))\n",
    "    except:\n",
    "        print('Enter the only given options in between 1 - 8')\n",
    "        continue\n",
    "    else:   \n",
    "        if operation == 1:\n",
    "            print('Addition = ',num1+num2)\n",
    "        elif operation == 2:\n",
    "            print('Subtraction = ',num1-num2)\n",
    "        elif operation == 3:\n",
    "            print('Multiplication = ',num1*num2)\n",
    "        elif operation == 4:\n",
    "            print('Division = ',round(num1/num2, 3)) if num2!=0 else  print('cannot be divided by zero')\n",
    "        elif operation == 5:\n",
    "            print('Quotient = ',num1//num2) if num2!=0 else  print('cannot be divided by zero')\n",
    "        elif operation == 6:\n",
    "            print('Remainder = ',num1%num2) if num2!=0 else  print('cannot be divided by zero')\n",
    "        elif operation == 7:\n",
    "            print('Exponent = ',num1**num2)\n",
    "        elif operation == 8:\n",
    "            print('Thank u for using')\n",
    "            break"
   ]
  },
  {
   "cell_type": "code",
   "execution_count": 9,
   "metadata": {
    "ExecuteTime": {
     "end_time": "2021-05-29T06:09:12.072310Z",
     "start_time": "2021-05-29T06:09:10.806870Z"
    }
   },
   "outputs": [
    {
     "name": "stdout",
     "output_type": "stream",
     "text": [
      "Enter a year 2020\n",
      "It's a leap year\n"
     ]
    }
   ],
   "source": [
    "# W A P to check whether a year entered by user is an leap year or not?\n",
    "# Check with below input:-\n",
    "# leap year:- 2012, 1968, 2004, 1200, 1600,2400\n",
    "# Non-lear year:- 1971, 2006, 1700,1800,1900\n",
    "\n",
    "\n",
    "year = int(input('Enter a year '))\n",
    "if year%400==0 or (year%4==0 and year%100!=0):\n",
    "    print(\"It's a leap year\")\n",
    "else:\n",
    "    print('Not a leap year')"
   ]
  },
  {
   "cell_type": "code",
   "execution_count": 14,
   "metadata": {
    "ExecuteTime": {
     "end_time": "2021-05-29T06:11:19.038285Z",
     "start_time": "2021-05-29T06:11:14.049393Z"
    }
   },
   "outputs": [
    {
     "name": "stdout",
     "output_type": "stream",
     "text": [
      "Enter only integer values: 5\n",
      "Odd number\n"
     ]
    }
   ],
   "source": [
    "# W A P which takes one number from the user and checks whether it is\n",
    "# an even or odd number?, If it even then prints number is\n",
    "# even number else prints that number is odd number.\n",
    "\n",
    "\n",
    "print('Even number' if int(input('Enter only integer values: '))%2==0 else 'Odd number')"
   ]
  },
  {
   "cell_type": "code",
   "execution_count": 17,
   "metadata": {
    "ExecuteTime": {
     "end_time": "2021-05-29T06:15:37.496641Z",
     "start_time": "2021-05-29T06:15:33.446229Z"
    }
   },
   "outputs": [
    {
     "name": "stdout",
     "output_type": "stream",
     "text": [
      "Enter only numeric values: 21\n",
      "Enter only numeric values: 10\n",
      "num1 is greater than num2\n"
     ]
    }
   ],
   "source": [
    "# W A P which takes two numbers from the user and prints below output:-\n",
    "# 1. num1 is greater than num2 if num1 is greater than num2\n",
    "# 2. num1 is smaller than num2 if num1 is smaller than num2\n",
    "# 3. num1 is equal to num2 if num1 and num2 are equal\n",
    "\n",
    "\n",
    "num1 = int(input('Enter only numeric values: '))\n",
    "num2 = int(input('Enter only numeric values: '))\n",
    "print('num1 is greater than num2' if num1>num2 else 'num1 is smaller than num2' if num1<num2 else 'num1 is equal to num2' )"
   ]
  },
  {
   "cell_type": "code",
   "execution_count": 20,
   "metadata": {
    "ExecuteTime": {
     "end_time": "2021-05-29T06:29:38.427213Z",
     "start_time": "2021-05-29T06:29:34.422945Z"
    }
   },
   "outputs": [
    {
     "name": "stdout",
     "output_type": "stream",
     "text": [
      "Enter only numeric values: 10\n",
      "Enter only numeric values: 20\n",
      "Enter only numeric values: 30\n",
      "30 is greater than 10 and 20\n"
     ]
    }
   ],
   "source": [
    "# W A P which takes three numbers from the user and prints below\n",
    "# output:-\n",
    "# 1. num1 is greater than num2 and num3 if num1 is greater than num2\n",
    "# and num3\n",
    "# 2. num2 is greater than num1 and num3 if num2 is greater than num1\n",
    "# and num3\n",
    "# 3. num3 is greater than num1 and num2 if num3 is greater than num1\n",
    "# and num2\n",
    "\n",
    "num1 = int(input('Enter only numeric values: '))\n",
    "num2 = int(input('Enter only numeric values: '))\n",
    "num3 = int(input('Enter only numeric values: '))\n",
    "print(f'{num1} is greater than {num2} and {num3}' if num3<num1>num2 else \n",
    "      f'{num2} is greater than {num1} and {num3}' if num2>num3 else \n",
    "      f'{num3} is greater than {num1} and {num2}')\n",
    "\n"
   ]
  },
  {
   "cell_type": "code",
   "execution_count": 23,
   "metadata": {
    "ExecuteTime": {
     "end_time": "2021-05-29T07:33:10.414162Z",
     "start_time": "2021-05-29T07:32:49.508839Z"
    }
   },
   "outputs": [
    {
     "name": "stdout",
     "output_type": "stream",
     "text": [
      "Enter a string: Write a Python program to find the length of the my_str\n",
      "length of given string is  55\n"
     ]
    }
   ],
   "source": [
    "# Write a Python program to find the length of the my_str using loop:-\n",
    "\n",
    "string = input('Enter a string: ')\n",
    "count = 0\n",
    "for i in string:\n",
    "    count+=1\n",
    "print('length of given string is ',count)"
   ]
  },
  {
   "cell_type": "code",
   "execution_count": 24,
   "metadata": {
    "ExecuteTime": {
     "end_time": "2021-05-29T07:35:34.986953Z",
     "start_time": "2021-05-29T07:35:27.422639Z"
    }
   },
   "outputs": [
    {
     "name": "stdout",
     "output_type": "stream",
     "text": [
      "Enter a string: peter piper picked a peck of pickled peppers.\\n\n",
      "9\n"
     ]
    }
   ],
   "source": [
    "# Write a Python program to find the total number of times letter 'p'\n",
    "# is appeared in the below string using loop:-\n",
    "# Input:- 'peter piper picked a peck of pickled peppers.\\n'\n",
    "# Output:- 9\n",
    "\n",
    "\n",
    "count =0\n",
    "string = input('Enter a string: ')\n",
    "for i in string:\n",
    "    if i == 'p' or i == 'P':\n",
    "        count+=1\n",
    "print(count)"
   ]
  },
  {
   "cell_type": "code",
   "execution_count": 25,
   "metadata": {
    "ExecuteTime": {
     "end_time": "2021-05-29T07:37:09.425249Z",
     "start_time": "2021-05-29T07:36:58.562221Z"
    }
   },
   "outputs": [
    {
     "name": "stdout",
     "output_type": "stream",
     "text": [
      "Enter a string: peter piper picked a peck of pickled peppers.\n",
      "0\n",
      "6\n",
      "8\n",
      "12\n",
      "21\n",
      "29\n",
      "37\n",
      "39\n",
      "40\n"
     ]
    }
   ],
   "source": [
    "# Write a Python Program, to print all the indexes of all occurences of\n",
    "# letter 'p' appeared in the string using loop:-\n",
    "# Input:- 'peter piper picked a peck of pickled peppers.'\n",
    "# Output:-\n",
    "# 0\n",
    "# 6\n",
    "# 8\n",
    "# 12\n",
    "# 21\n",
    "# 29\n",
    "# 37\n",
    "# 39\n",
    "# 40\n",
    "\n",
    "string = input('Enter a string: ')\n",
    "\n",
    "for i in range(len(string)):\n",
    "    if string[i]=='p' or string[i]=='P':\n",
    "        print(i)"
   ]
  },
  {
   "cell_type": "code",
   "execution_count": 115,
   "metadata": {
    "ExecuteTime": {
     "end_time": "2021-05-29T09:18:36.541622Z",
     "start_time": "2021-05-29T09:18:31.151327Z"
    }
   },
   "outputs": [
    {
     "name": "stdout",
     "output_type": "stream",
     "text": [
      "Enter a string: peter piper picked a peck. of pickled peppers.\n",
      "['peter', 'piper', 'picked', 'a', 'peck', 'of', 'pickled', 'peppers']\n"
     ]
    }
   ],
   "source": [
    "# Write a python program to find below output using loop:-\n",
    "# Input:- 'peter piper picked a peck of pickled peppers.'\n",
    "# Output:- ['peter', 'piper', 'picked', 'a', 'peck', 'of', 'pickled',\n",
    "# 'peppers']\n",
    "\n",
    "\n",
    "string = input('Enter a string: ')\n",
    "lst = []\n",
    "result = ''\n",
    "for i in string:\n",
    "    if i != ' ':\n",
    "        result+=i\n",
    "    else:\n",
    "        lst.append(result.strip('.'))\n",
    "        result = ''\n",
    "else:\n",
    "    lst.append(result.strip('.'))\n",
    "\n",
    "print(lst)\n",
    "\n",
    "    "
   ]
  },
  {
   "cell_type": "code",
   "execution_count": 103,
   "metadata": {
    "ExecuteTime": {
     "end_time": "2021-05-29T09:04:52.772095Z",
     "start_time": "2021-05-29T09:04:51.599619Z"
    }
   },
   "outputs": [
    {
     "name": "stdout",
     "output_type": "stream",
     "text": [
      "Enter a string: peter piper picked a peck of pickled peppers.\n",
      "peppers pickled of peck a picked piper peter\n"
     ]
    }
   ],
   "source": [
    "# Write a python program to find below output using loop:-\n",
    "# Input:- 'peter piper picked a peck of pickled peppers.'\n",
    "# Output:- 'peppers pickled of peck a picked piper peter'\n",
    "\n",
    "string = input('Enter a string: ')\n",
    "final = ''\n",
    "for i in string.split()[::-1]:\n",
    "    result=''\n",
    "    for j in i:\n",
    "        if j != '.':\n",
    "            result = result+j\n",
    "    final+=result+' '\n",
    "print(final.strip()) \n",
    "\n"
   ]
  },
  {
   "cell_type": "code",
   "execution_count": 106,
   "metadata": {
    "ExecuteTime": {
     "end_time": "2021-05-29T09:06:01.977872Z",
     "start_time": "2021-05-29T09:06:00.921612Z"
    }
   },
   "outputs": [
    {
     "name": "stdout",
     "output_type": "stream",
     "text": [
      "Enter a string: peter piper picked a peck of pickled peppers.\n",
      ".sreppep delkcip fo kcep a dekcip repip retep\n"
     ]
    }
   ],
   "source": [
    "# Write a python program to find below output using loop:-\n",
    "# Input:- 'peter piper picked a peck of pickled peppers.'\n",
    "# Output:- '.sreppep delkcip fo kcep a dekcip repip retep'\n",
    "\n",
    "string = input('Enter a string: ')\n",
    "final = ''\n",
    "for i in string.split()[::-1]:\n",
    "    result=''\n",
    "    for j in i:\n",
    "        result = j+result\n",
    "    final+=result+' '\n",
    "print(final.strip()) "
   ]
  },
  {
   "cell_type": "code",
   "execution_count": 38,
   "metadata": {
    "ExecuteTime": {
     "end_time": "2021-05-29T07:56:44.276793Z",
     "start_time": "2021-05-29T07:56:42.429538Z"
    }
   },
   "outputs": [
    {
     "name": "stdout",
     "output_type": "stream",
     "text": [
      "Enter a string: peter piper picked a peck of pickled peppers.\n",
      "retep repip dekcip a kcep fo delkcip sreppep\n"
     ]
    }
   ],
   "source": [
    "# Write a python program to find below output using loop:-\n",
    "# Input:- 'peter piper picked a peck of pickled peppers.'\n",
    "# Output:- 'retep repip dekcip a kcep fo delkcip sreppep'\n",
    "\n",
    "string = input('Enter a string: ')\n",
    "final = ''\n",
    "for i in string.split():\n",
    "    result=''\n",
    "    for j in i:\n",
    "        if j != '.':\n",
    "            result = j+result\n",
    "    final+=result+' '\n",
    "print(final.strip())"
   ]
  },
  {
   "cell_type": "code",
   "execution_count": 41,
   "metadata": {
    "ExecuteTime": {
     "end_time": "2021-05-29T08:01:54.110913Z",
     "start_time": "2021-05-29T08:01:52.110184Z"
    }
   },
   "outputs": [
    {
     "name": "stdout",
     "output_type": "stream",
     "text": [
      "Enter a string: peter piper picked a peck of pickled peppers.\n",
      "Peter Piper Picked A Peck Of Pickled Peppers\n"
     ]
    }
   ],
   "source": [
    "# Write a python program to find below output using loop:-\n",
    "# Input:- 'peter piper picked a peck of pickled peppers.'\n",
    "# Output:- 'Peter Piper Picked A Peck Of Pickled Peppers'\n",
    "\n",
    "string = input('Enter a string: ')\n",
    "result = ''\n",
    "for i in string.split():\n",
    "    result+=i[0].upper()+i[1:]+' '\n",
    "print(result[:-2])    \n"
   ]
  },
  {
   "cell_type": "code",
   "execution_count": 44,
   "metadata": {
    "ExecuteTime": {
     "end_time": "2021-05-29T08:06:53.233939Z",
     "start_time": "2021-05-29T08:06:51.572585Z"
    }
   },
   "outputs": [
    {
     "name": "stdout",
     "output_type": "stream",
     "text": [
      "Enter a string: Peter Piper Picked A Peck Of Pickled Peppers.\n",
      "Peter piper picked a peck of pickled peppers\n"
     ]
    }
   ],
   "source": [
    "# Write a python program to find below output using loop:-\n",
    "# Input:- 'Peter Piper Picked A Peck Of Pickled Peppers.'\n",
    "# Output:- 'Peter piper picked a peck of pickled peppers'\n",
    "\n",
    "string = input('Enter a string: ')\n",
    "result = ''\n",
    "for i in range(len(string)):\n",
    "    if i == 0:\n",
    "        result+=string[i].upper()\n",
    "    else:\n",
    "        result+=string[i].lower()\n",
    "print(result[:-1])\n"
   ]
  },
  {
   "cell_type": "code",
   "execution_count": 69,
   "metadata": {
    "ExecuteTime": {
     "end_time": "2021-05-29T08:38:33.419000Z",
     "start_time": "2021-05-29T08:38:25.833760Z"
    }
   },
   "outputs": [
    {
     "name": "stdout",
     "output_type": "stream",
     "text": [
      "Enter a string: Peter Piper Picked A Peck Of Pickled Peppers.\n",
      "Enter a sub string to match: Peck\n",
      "21\n"
     ]
    }
   ],
   "source": [
    "# Write a python program to implement index method using loop. If\n",
    "# sub_str is found in my_str then it will print the index\n",
    "# of first occurrence of first character of matching string in my_str:-\n",
    "# Input:- my_str = 'Peter Piper Picked A Peck Of Pickled Peppers.',\n",
    "# sub_str = 'Pickl'\n",
    "# Output:- 29\n",
    "\n",
    "string = input('Enter a string: ')\n",
    "sub_str = input('Enter a sub string to match: ')\n",
    "\n",
    "for i in range(len(string)-len(sub_str)+1):\n",
    "    if string[i:i+len(sub_str)]==sub_str:\n",
    "        print(i)\n",
    "        break\n",
    "    "
   ]
  },
  {
   "cell_type": "code",
   "execution_count": 65,
   "metadata": {
    "ExecuteTime": {
     "end_time": "2021-05-29T08:30:33.568246Z",
     "start_time": "2021-05-29T08:30:26.609545Z"
    }
   },
   "outputs": [
    {
     "name": "stdout",
     "output_type": "stream",
     "text": [
      "Enter a string: Peter Piper Picked A Peck Of Pickled Peppers.\n",
      "Enter a sub string to match: z\n",
      "Enter a new string to replace: u\n",
      "z  not found\n"
     ]
    }
   ],
   "source": [
    "# Write a python program to implement replace method using loop. If\n",
    "# sub_str is found in my_str then it will replace the first\n",
    "# occurrence of sub_str with new_str else it will will print sub_str not\n",
    "# found:-\n",
    "# Input:- my_str = 'Peter Piper Picked A Peck Of Pickled Peppers.',\n",
    "# sub_str = 'Peck', new_str = 'Pack'\n",
    "# Output:- 'Peter Piper Picked A Pack Of Pickled Peppers.'\n",
    "\n",
    "\n",
    "string = input('Enter a string: ')\n",
    "sub_str = input('Enter a sub string to match: ')\n",
    "new_str = input('Enter a new string to replace: ')\n",
    "\n",
    "for i in range(len(string)-len(sub_str)+1):\n",
    "    if string[i:i+len(sub_str)]==sub_str:\n",
    "        print(string[:i]+new_str+string[i+len(new_str):])\n",
    "        break\n",
    "else:\n",
    "    print(sub_str,' not found')"
   ]
  },
  {
   "cell_type": "code",
   "execution_count": 83,
   "metadata": {
    "ExecuteTime": {
     "end_time": "2021-05-29T08:45:48.999529Z",
     "start_time": "2021-05-29T08:45:43.214716Z"
    }
   },
   "outputs": [
    {
     "name": "stdout",
     "output_type": "stream",
     "text": [
      "Enter a string: Peter Piper Picked A Peck Of Pickled Peppers.\n",
      "Enter a sub string to match: Peck\n",
      "*********************Peck********************\n"
     ]
    }
   ],
   "source": [
    "# Write a python program to find below output (implements rjust and\n",
    "# ljust) using loop:-\n",
    "# Input:- 'Peter Piper Picked A Peck Of Pickled Peppers.', sub_str =\n",
    "# 'Peck',\n",
    "# Output:- '*********************Peck********************'\n",
    "\n",
    "string = input('Enter a string: ')\n",
    "sub_str = input('Enter a sub string to match: ')\n",
    "for i in range(len(string)-len(sub_str)+1):\n",
    "    if string[i:i+len(sub_str)]==sub_str:\n",
    "        print(i*'*'+sub_str+'*'*(len(string[i+len(sub_str):])))\n",
    "        break\n",
    "else:\n",
    "    print(sub_str,' not found')"
   ]
  },
  {
   "cell_type": "code",
   "execution_count": 101,
   "metadata": {
    "ExecuteTime": {
     "end_time": "2021-05-29T09:01:58.749422Z",
     "start_time": "2021-05-29T09:01:55.315426Z"
    }
   },
   "outputs": [
    {
     "name": "stdout",
     "output_type": "stream",
     "text": [
      "Enter a string: This is Python class\n",
      "Enter a seperator:  \n",
      "['This', 'is Python class']\n"
     ]
    }
   ],
   "source": [
    "# Write a python program to find below output using loop:-\n",
    "# Input:- 'This is Python class', sep = ' is',\n",
    "# Output:- ['This', 'is', 'Python class']\n",
    "\n",
    "lst = []\n",
    "string = input('Enter a string: ')\n",
    "sep = input('Enter a seperator: ')\n",
    "for i in range(len(string)-len(sep)+1):\n",
    "    if string[i:i+len(sep)]==sep:\n",
    "        lst.append(string[:i].strip()) if string[:i].strip() else None\n",
    "        lst.append(sep.strip()) if not sep.isspace() else None\n",
    "        lst.append(string[i+len(sep):].strip()) if string[i+len(sep):].strip() else None\n",
    "        print(lst)\n",
    "        break\n",
    "else:\n",
    "    print(sep,' not found')"
   ]
  },
  {
   "cell_type": "code",
   "execution_count": null,
   "metadata": {},
   "outputs": [],
   "source": []
  },
  {
   "cell_type": "code",
   "execution_count": null,
   "metadata": {},
   "outputs": [],
   "source": []
  }
 ],
 "metadata": {
  "kernelspec": {
   "display_name": "Python 3",
   "language": "python",
   "name": "python3"
  },
  "language_info": {
   "codemirror_mode": {
    "name": "ipython",
    "version": 3
   },
   "file_extension": ".py",
   "mimetype": "text/x-python",
   "name": "python",
   "nbconvert_exporter": "python",
   "pygments_lexer": "ipython3",
   "version": "3.8.5"
  }
 },
 "nbformat": 4,
 "nbformat_minor": 4
}
