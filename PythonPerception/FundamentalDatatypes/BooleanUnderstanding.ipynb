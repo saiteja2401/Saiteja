{
 "cells": [
  {
   "cell_type": "markdown",
   "metadata": {},
   "source": [
    "#### 1. Declaring a boolean value and stroing it in a variable and checking its type and id"
   ]
  },
  {
   "cell_type": "code",
   "execution_count": 1,
   "metadata": {
    "ExecuteTime": {
     "end_time": "2021-05-24T14:28:39.905207Z",
     "start_time": "2021-05-24T14:28:39.884192Z"
    }
   },
   "outputs": [
    {
     "name": "stdout",
     "output_type": "stream",
     "text": [
      "variable type <class 'bool'> and it's id is 140727415920464.\n"
     ]
    }
   ],
   "source": [
    "#Declaration and variable assignment\n",
    "a = True\n",
    "\n",
    "print(f\"variable type {type(a)} and it's id is {id(a)}.\")"
   ]
  },
  {
   "cell_type": "markdown",
   "metadata": {},
   "source": [
    "#### 2. Assigning two boolean variables within 0-256 and checking their id's"
   ]
  },
  {
   "cell_type": "code",
   "execution_count": 2,
   "metadata": {
    "ExecuteTime": {
     "end_time": "2021-05-24T14:30:13.680639Z",
     "start_time": "2021-05-24T14:30:13.669645Z"
    }
   },
   "outputs": [
    {
     "name": "stdout",
     "output_type": "stream",
     "text": [
      "Id of a 140727416203328 and id of b 140727416203328\n",
      "True\n"
     ]
    }
   ],
   "source": [
    "#Assigning the variables\n",
    "a = 10\n",
    "b = 10\n",
    "print('Id of a',id(a),'and id of b',id(b))\n",
    "print(a is b)"
   ]
  },
  {
   "cell_type": "markdown",
   "metadata": {},
   "source": [
    "#### 3. Arithmetic operations on Boolean"
   ]
  },
  {
   "cell_type": "code",
   "execution_count": 5,
   "metadata": {
    "ExecuteTime": {
     "end_time": "2021-05-24T14:32:22.845350Z",
     "start_time": "2021-05-24T14:32:22.824727Z"
    }
   },
   "outputs": [
    {
     "name": "stdout",
     "output_type": "stream",
     "text": [
      "Addition 1\n",
      "Difference -1\n",
      "Multiplication 0\n",
      "Float division 0.0\n",
      "Floor division 0\n",
      "Remainder 0\n",
      "Quotient 0\n",
      "Exponent 0\n"
     ]
    }
   ],
   "source": [
    "#Assignment of variables\n",
    "a = False\n",
    "b = True\n",
    "\n",
    "#Addition\n",
    "print('Addition',a+b)\n",
    "\n",
    "#Substraction\n",
    "print('Difference',a-b)\n",
    "\n",
    "#Multiplication\n",
    "print('Multiplication',a*b)\n",
    "\n",
    "#Float Division\n",
    "print('Float division',a/b)\n",
    "\n",
    "#Floor division\n",
    "print('Floor division',a//b)\n",
    "\n",
    "#Remainder\n",
    "print('Remainder',a%b)\n",
    "\n",
    "#Quotient\n",
    "print('Quotient',a//b)\n",
    "\n",
    "#Exponent\n",
    "print('Exponent',a**b)"
   ]
  },
  {
   "cell_type": "markdown",
   "metadata": {},
   "source": [
    "#### 4. Comparison operations on boolean"
   ]
  },
  {
   "cell_type": "code",
   "execution_count": 6,
   "metadata": {
    "ExecuteTime": {
     "end_time": "2021-05-24T14:33:29.483912Z",
     "start_time": "2021-05-24T14:33:29.475899Z"
    }
   },
   "outputs": [
    {
     "name": "stdout",
     "output_type": "stream",
     "text": [
      "False\n",
      "True\n",
      "False\n",
      "True\n"
     ]
    }
   ],
   "source": [
    "a = False\n",
    "b = True\n",
    "\n",
    "#Greater than comparison\n",
    "print(a>b)\n",
    "\n",
    "#Less than comparison\n",
    "print(a<b)\n",
    "\n",
    "#Greater than or equal \n",
    "print(a>=b)\n",
    "\n",
    "#less than or equal\n",
    "print(a<=b)"
   ]
  },
  {
   "cell_type": "markdown",
   "metadata": {},
   "source": [
    "#### 5. Equality operator on boolean"
   ]
  },
  {
   "cell_type": "code",
   "execution_count": 7,
   "metadata": {
    "ExecuteTime": {
     "end_time": "2021-05-24T14:34:20.222380Z",
     "start_time": "2021-05-24T14:34:20.203464Z"
    }
   },
   "outputs": [
    {
     "name": "stdout",
     "output_type": "stream",
     "text": [
      "False\n",
      "True\n"
     ]
    }
   ],
   "source": [
    "a = False\n",
    "b = True\n",
    "\n",
    "print(a==b)\n",
    "print(a!=b)"
   ]
  },
  {
   "cell_type": "markdown",
   "metadata": {},
   "source": [
    "#### 6. Logical operation"
   ]
  },
  {
   "cell_type": "code",
   "execution_count": 8,
   "metadata": {
    "ExecuteTime": {
     "end_time": "2021-05-24T14:36:12.919832Z",
     "start_time": "2021-05-24T14:36:12.909838Z"
    }
   },
   "outputs": [
    {
     "name": "stdout",
     "output_type": "stream",
     "text": [
      "False\n",
      "False\n",
      "True\n",
      "False\n",
      "****************************************\n",
      "True\n",
      "True\n",
      "True\n",
      "False\n",
      "****************************************\n",
      "True\n",
      "False\n"
     ]
    }
   ],
   "source": [
    "print(False and True)\n",
    "print(True and False)\n",
    "print(True and True)\n",
    "print(False and False)\n",
    "print('*'*40)\n",
    "print(True or True)\n",
    "print(False or True)\n",
    "print(True or False)\n",
    "print(False or False)\n",
    "print('*'*40)\n",
    "print(not False)\n",
    "print(not True)"
   ]
  },
  {
   "cell_type": "markdown",
   "metadata": {},
   "source": [
    "#### 7. Bitwise operations"
   ]
  },
  {
   "cell_type": "code",
   "execution_count": 9,
   "metadata": {
    "ExecuteTime": {
     "end_time": "2021-05-24T14:37:41.493209Z",
     "start_time": "2021-05-24T14:37:41.459519Z"
    }
   },
   "outputs": [
    {
     "name": "stdout",
     "output_type": "stream",
     "text": [
      "Bitwise and True\n",
      "Bitwise or True\n",
      "Bitwise xor True\n",
      "Bitwise negation -2\n",
      "Bitwise left shift 4\n",
      "Bitwise right shift 0\n"
     ]
    }
   ],
   "source": [
    "print('Bitwise and',True & True)\n",
    "print('Bitwise or',True | False)\n",
    "print('Bitwise xor',True ^ False)\n",
    "print('Bitwise negation',~True)\n",
    "print('Bitwise left shift',True<<2)\n",
    "print('Bitwise right shift',True>>2)"
   ]
  },
  {
   "cell_type": "markdown",
   "metadata": {},
   "source": [
    "#### 8. Programs to check output"
   ]
  },
  {
   "cell_type": "code",
   "execution_count": 10,
   "metadata": {
    "ExecuteTime": {
     "end_time": "2021-05-24T14:38:33.050299Z",
     "start_time": "2021-05-24T14:38:33.033300Z"
    }
   },
   "outputs": [
    {
     "name": "stdout",
     "output_type": "stream",
     "text": [
      "True\n",
      "False\n",
      "True\n",
      "False\n"
     ]
    }
   ],
   "source": [
    "a = True\n",
    "b = True\n",
    "\n",
    "print(a is b)\n",
    "print(a is not b)\n",
    "\n",
    "a = False\n",
    "b = False\n",
    "\n",
    "print(a is b)\n",
    "print(a is not b)"
   ]
  },
  {
   "cell_type": "markdown",
   "metadata": {},
   "source": [
    "#### 9. Membership Operations"
   ]
  },
  {
   "cell_type": "code",
   "execution_count": 11,
   "metadata": {
    "ExecuteTime": {
     "end_time": "2021-05-24T14:39:26.070235Z",
     "start_time": "2021-05-24T14:39:26.050247Z"
    }
   },
   "outputs": [
    {
     "name": "stdout",
     "output_type": "stream",
     "text": [
      "True\n",
      "True\n",
      "True\n",
      "True\n",
      "True\n"
     ]
    }
   ],
   "source": [
    "print(True in [10,10.20,10+20j,'Python', True])\n",
    "print(False in (10,10.20,10+20j,'Python', False))\n",
    "print(True in {1,2,3, True})\n",
    "print(True in {True:100, False:200, True:300})\n",
    "print(False in {True:100, False:200, True:300})"
   ]
  }
 ],
 "metadata": {
  "kernelspec": {
   "display_name": "Python 3",
   "language": "python",
   "name": "python3"
  },
  "language_info": {
   "codemirror_mode": {
    "name": "ipython",
    "version": 3
   },
   "file_extension": ".py",
   "mimetype": "text/x-python",
   "name": "python",
   "nbconvert_exporter": "python",
   "pygments_lexer": "ipython3",
   "version": "3.8.5"
  }
 },
 "nbformat": 4,
 "nbformat_minor": 4
}
