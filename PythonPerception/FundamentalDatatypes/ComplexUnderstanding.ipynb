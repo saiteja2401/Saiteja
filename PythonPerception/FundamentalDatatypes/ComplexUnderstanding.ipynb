{
 "cells": [
  {
   "cell_type": "markdown",
   "metadata": {},
   "source": [
    "#### 1. Declaring an complex value and stroing it in a variable and checking its type and id"
   ]
  },
  {
   "cell_type": "code",
   "execution_count": 1,
   "metadata": {
    "ExecuteTime": {
     "end_time": "2021-05-24T14:18:14.185130Z",
     "start_time": "2021-05-24T14:18:14.178128Z"
    }
   },
   "outputs": [
    {
     "name": "stdout",
     "output_type": "stream",
     "text": [
      "variable type <class 'complex'> and it's id is 2116930919216.\n"
     ]
    }
   ],
   "source": [
    "#Declaration and variable assignment\n",
    "com = 10+20j\n",
    "\n",
    "print(f\"variable type {type(com)} and it's id is {id(com)}.\")"
   ]
  },
  {
   "cell_type": "markdown",
   "metadata": {},
   "source": [
    "#### 2. Arithmetic operations on integer "
   ]
  },
  {
   "cell_type": "code",
   "execution_count": 7,
   "metadata": {
    "ExecuteTime": {
     "end_time": "2021-05-24T14:20:43.129530Z",
     "start_time": "2021-05-24T14:20:43.116517Z"
    }
   },
   "outputs": [
    {
     "name": "stdout",
     "output_type": "stream",
     "text": [
      "Addition (20+20j)\n",
      "Difference 20j\n",
      "Multiplication (100+200j)\n",
      "Float division (1+2j)\n",
      "Exponent (2370000000000-31160000000000j)\n"
     ]
    }
   ],
   "source": [
    "#Assignment of variables\n",
    "a = 10+20j\n",
    "b = 10\n",
    "\n",
    "#Addition\n",
    "print('Addition',a+b)\n",
    "\n",
    "#Substraction\n",
    "print('Difference',a-b)\n",
    "\n",
    "#Multiplication\n",
    "print('Multiplication',a*b)\n",
    "\n",
    "#Float Division\n",
    "print('Float division',a/b)\n",
    "\n",
    "#cannot perform floor division\n",
    "\n",
    "#cannot perform Remainder or modulo\n",
    "\n",
    "#Exponent\n",
    "print('Exponent',a**b)"
   ]
  },
  {
   "cell_type": "markdown",
   "metadata": {},
   "source": [
    "#### 3. Comparison operations on complex"
   ]
  },
  {
   "cell_type": "markdown",
   "metadata": {},
   "source": [
    "### Object reusability concept is not applicable on complex number"
   ]
  },
  {
   "cell_type": "markdown",
   "metadata": {},
   "source": [
    "#### 4. Equality operator on inetegers"
   ]
  },
  {
   "cell_type": "code",
   "execution_count": 8,
   "metadata": {
    "ExecuteTime": {
     "end_time": "2021-05-24T14:22:48.443420Z",
     "start_time": "2021-05-24T14:22:48.431178Z"
    }
   },
   "outputs": [
    {
     "name": "stdout",
     "output_type": "stream",
     "text": [
      "False\n",
      "True\n"
     ]
    }
   ],
   "source": [
    "a = 10+20j\n",
    "b = 20+30j\n",
    "\n",
    "print(a==b)\n",
    "print(a!=b)"
   ]
  },
  {
   "cell_type": "markdown",
   "metadata": {},
   "source": [
    "#### 4. Logical operation"
   ]
  },
  {
   "cell_type": "code",
   "execution_count": 9,
   "metadata": {
    "ExecuteTime": {
     "end_time": "2021-05-24T14:25:14.460016Z",
     "start_time": "2021-05-24T14:25:14.442015Z"
    }
   },
   "outputs": [
    {
     "name": "stdout",
     "output_type": "stream",
     "text": [
      "(20-10j)\n",
      "0j\n",
      "0j\n",
      "0j\n",
      "****************************************\n",
      "(10+20j)\n",
      "(20+12j)\n",
      "(20+10j)\n",
      "0j\n",
      "****************************************\n",
      "False\n",
      "True\n"
     ]
    }
   ],
   "source": [
    "print(10+20j and 20-10j)\n",
    "print(0+0j and 20+12j)\n",
    "print(20+10j and 0+0j)\n",
    "print(0+0j and 0+0j)\n",
    "print('*'*40)\n",
    "print(10+20j or 20+40j)\n",
    "print(0+0j or 20+12j)\n",
    "print(20+10j or 0+0j)\n",
    "print(0+0j or 0-0j)\n",
    "print('*'*40)\n",
    "print(not 10+20j)\n",
    "print(not 0+0j)"
   ]
  },
  {
   "cell_type": "markdown",
   "metadata": {},
   "source": [
    "#### 5. Programs to check output"
   ]
  },
  {
   "cell_type": "code",
   "execution_count": 10,
   "metadata": {
    "ExecuteTime": {
     "end_time": "2021-05-24T14:26:06.435712Z",
     "start_time": "2021-05-24T14:26:06.427501Z"
    }
   },
   "outputs": [
    {
     "name": "stdout",
     "output_type": "stream",
     "text": [
      "False\n",
      "True\n"
     ]
    }
   ],
   "source": [
    "a = 10+20j\n",
    "b = 10+20j\n",
    "print(a is b) \n",
    "print(a is not b)"
   ]
  },
  {
   "cell_type": "markdown",
   "metadata": {},
   "source": [
    "#### 6. Membership Operations"
   ]
  },
  {
   "cell_type": "code",
   "execution_count": 11,
   "metadata": {
    "ExecuteTime": {
     "end_time": "2021-05-24T14:26:56.054892Z",
     "start_time": "2021-05-24T14:26:56.045878Z"
    }
   },
   "outputs": [
    {
     "name": "stdout",
     "output_type": "stream",
     "text": [
      "True\n",
      "True\n",
      "True\n",
      "True\n",
      "True\n",
      "True\n"
     ]
    }
   ],
   "source": [
    "print('2.7' in 'Python2.7.8') \n",
    "print(10+20j in [10,10.20,10+20j,'Python']) \n",
    "print(10+20j in (10,10.20,10+20j,'Python')) \n",
    "print(30+40j in {1,20.30,30+40j}) \n",
    "print(30+40j in {1:100, 2.3:200, 30+40j:300}) \n",
    "print(10 in range(20))"
   ]
  }
 ],
 "metadata": {
  "kernelspec": {
   "display_name": "Python 3",
   "language": "python",
   "name": "python3"
  },
  "language_info": {
   "codemirror_mode": {
    "name": "ipython",
    "version": 3
   },
   "file_extension": ".py",
   "mimetype": "text/x-python",
   "name": "python",
   "nbconvert_exporter": "python",
   "pygments_lexer": "ipython3",
   "version": "3.8.5"
  }
 },
 "nbformat": 4,
 "nbformat_minor": 4
}
