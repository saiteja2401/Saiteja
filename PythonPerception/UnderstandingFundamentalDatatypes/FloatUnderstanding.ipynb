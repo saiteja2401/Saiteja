{
 "cells": [
  {
   "cell_type": "markdown",
   "metadata": {},
   "source": [
    "#### 1. Declaring an float value and stroing it in a variable and checking its type and id"
   ]
  },
  {
   "cell_type": "code",
   "execution_count": 1,
   "metadata": {
    "ExecuteTime": {
     "end_time": "2021-05-24T13:58:03.733856Z",
     "start_time": "2021-05-24T13:58:03.717857Z"
    }
   },
   "outputs": [
    {
     "name": "stdout",
     "output_type": "stream",
     "text": [
      "variable type <class 'float'> and it's id is 2554178328720.\n"
     ]
    }
   ],
   "source": [
    "#Declaration and variable assignment\n",
    "integer = 770.234\n",
    "\n",
    "print(f\"variable type {type(integer)} and it's id is {id(integer)}.\")"
   ]
  },
  {
   "cell_type": "markdown",
   "metadata": {},
   "source": [
    "#### 2. Arithmetic operations on float"
   ]
  },
  {
   "cell_type": "code",
   "execution_count": 2,
   "metadata": {
    "ExecuteTime": {
     "end_time": "2021-05-24T13:59:47.279216Z",
     "start_time": "2021-05-24T13:59:47.260203Z"
    }
   },
   "outputs": [
    {
     "name": "stdout",
     "output_type": "stream",
     "text": [
      "Addition 31.009999999999998\n",
      "Difference 9.49\n",
      "Multiplication 217.89\n",
      "Float division 1.8819702602230484\n",
      "Floor division 1.0\n",
      "Remainder 9.49\n",
      "Quotient 1.0\n",
      "Exponent 114059981404625.94\n"
     ]
    }
   ],
   "source": [
    "#Assignment of variables\n",
    "a = 20.25\n",
    "b = 10.76\n",
    "\n",
    "#Addition\n",
    "print('Addition',a+b)\n",
    "\n",
    "#Substraction\n",
    "print('Difference',a-b)\n",
    "\n",
    "#Multiplication\n",
    "print('Multiplication',a*b)\n",
    "\n",
    "#Float Division\n",
    "print('Float division',a/b)\n",
    "\n",
    "#Floor division\n",
    "print('Floor division',a//b)\n",
    "\n",
    "#Remainder\n",
    "print('Remainder',a%b)\n",
    "\n",
    "#Quotient\n",
    "print('Quotient',a//b)\n",
    "\n",
    "#Exponent\n",
    "print('Exponent',a**b)"
   ]
  },
  {
   "cell_type": "markdown",
   "metadata": {},
   "source": [
    "#### 3. Comparison operations on float"
   ]
  },
  {
   "cell_type": "code",
   "execution_count": 3,
   "metadata": {
    "ExecuteTime": {
     "end_time": "2021-05-24T14:00:40.837775Z",
     "start_time": "2021-05-24T14:00:40.824547Z"
    }
   },
   "outputs": [
    {
     "name": "stdout",
     "output_type": "stream",
     "text": [
      "False\n",
      "True\n",
      "False\n",
      "True\n"
     ]
    }
   ],
   "source": [
    "a = 10.25\n",
    "b = 20.56\n",
    "\n",
    "#Greater than comparison\n",
    "print(a>b)\n",
    "\n",
    "#Less than comparison\n",
    "print(a<b)\n",
    "\n",
    "#Greater than or equal \n",
    "print(a>=b)\n",
    "\n",
    "#less than or equal\n",
    "print(a<=b)"
   ]
  },
  {
   "cell_type": "markdown",
   "metadata": {},
   "source": [
    "#### 4. Equality operator on float"
   ]
  },
  {
   "cell_type": "code",
   "execution_count": 4,
   "metadata": {
    "ExecuteTime": {
     "end_time": "2021-05-24T14:02:07.502047Z",
     "start_time": "2021-05-24T14:02:07.496045Z"
    }
   },
   "outputs": [
    {
     "name": "stdout",
     "output_type": "stream",
     "text": [
      "False\n",
      "True\n"
     ]
    }
   ],
   "source": [
    "a = 10.45\n",
    "b = 20.87\n",
    "\n",
    "print(a==b)\n",
    "print(a!=b)"
   ]
  },
  {
   "cell_type": "markdown",
   "metadata": {},
   "source": [
    "#### 5. Logical operation"
   ]
  },
  {
   "cell_type": "code",
   "execution_count": 5,
   "metadata": {
    "ExecuteTime": {
     "end_time": "2021-05-24T14:04:32.140606Z",
     "start_time": "2021-05-24T14:04:32.133604Z"
    }
   },
   "outputs": [
    {
     "name": "stdout",
     "output_type": "stream",
     "text": [
      "20.34\n",
      "0.0\n",
      "0.0\n",
      "0.0\n",
      "****************************************\n",
      "10.2\n",
      "20.45\n",
      "20.34\n",
      "0.0\n",
      "****************************************\n",
      "False\n",
      "True\n"
     ]
    }
   ],
   "source": [
    "print(10.20 and 20.34)\n",
    "print(0.0 and 20.30)\n",
    "print(20.34 and 0.0)\n",
    "print(0.0 and 0.0)\n",
    "print('*'*40)\n",
    "print(10.20 or 20.30)\n",
    "print(0.0 or 20.45)\n",
    "print(20.34 or 0.0)\n",
    "print(0.0 or 0.0)\n",
    "print('*'*40)\n",
    "print(not 10.20)\n",
    "print(not 0.0)"
   ]
  },
  {
   "cell_type": "markdown",
   "metadata": {},
   "source": [
    "#### 6. Programs to check output"
   ]
  },
  {
   "cell_type": "code",
   "execution_count": 7,
   "metadata": {
    "ExecuteTime": {
     "end_time": "2021-05-24T14:12:06.160338Z",
     "start_time": "2021-05-24T14:12:06.142321Z"
    }
   },
   "outputs": [
    {
     "name": "stdout",
     "output_type": "stream",
     "text": [
      "False\n",
      "True\n"
     ]
    }
   ],
   "source": [
    "a = 10.20\n",
    "b = 10.20\n",
    "\n",
    "print(a is b)\n",
    "print(a is not b)\n",
    "\n",
    "#Id's are not same in float case"
   ]
  },
  {
   "cell_type": "markdown",
   "metadata": {},
   "source": [
    "#### 7. Why object reusability concept is not applicable on float values."
   ]
  },
  {
   "cell_type": "markdown",
   "metadata": {},
   "source": [
    "### For float we have many frequencies in between values, for example 0 to 1 has many decimal values in between, which is not possible to reuse those many intevals"
   ]
  },
  {
   "cell_type": "markdown",
   "metadata": {},
   "source": [
    "#### 8. Membership Operations"
   ]
  },
  {
   "cell_type": "code",
   "execution_count": 8,
   "metadata": {
    "ExecuteTime": {
     "end_time": "2021-05-24T14:16:31.103298Z",
     "start_time": "2021-05-24T14:16:31.091312Z"
    }
   },
   "outputs": [
    {
     "name": "stdout",
     "output_type": "stream",
     "text": [
      "True\n",
      "True\n",
      "True\n",
      "True\n",
      "True\n",
      "True\n"
     ]
    }
   ],
   "source": [
    "print('2.7' in 'Python2.7.8')\n",
    "print(10.20 in [10,10.20,10+20j,'Python'])\n",
    "print(10.20 in (10,10.20,10+20j,'Python'))\n",
    "print(20.30 in {1,20.30,30+40j})\n",
    "print(2.3 in {1:100, 2.3:200, 30+40j:300})\n",
    "print(10 in range(20))"
   ]
  }
 ],
 "metadata": {
  "kernelspec": {
   "display_name": "Python 3",
   "language": "python",
   "name": "python3"
  },
  "language_info": {
   "codemirror_mode": {
    "name": "ipython",
    "version": 3
   },
   "file_extension": ".py",
   "mimetype": "text/x-python",
   "name": "python",
   "nbconvert_exporter": "python",
   "pygments_lexer": "ipython3",
   "version": "3.8.5"
  }
 },
 "nbformat": 4,
 "nbformat_minor": 4
}
