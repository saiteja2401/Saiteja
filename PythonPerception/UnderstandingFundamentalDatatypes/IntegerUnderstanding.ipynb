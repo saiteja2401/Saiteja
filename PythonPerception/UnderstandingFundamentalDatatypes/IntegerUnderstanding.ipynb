{
 "cells": [
  {
   "cell_type": "markdown",
   "metadata": {},
   "source": [
    "#### 1. Declaring an int value and  stroing it in a variable and checking its type and id"
   ]
  },
  {
   "cell_type": "code",
   "execution_count": 1,
   "metadata": {
    "ExecuteTime": {
     "end_time": "2021-05-24T13:04:03.572773Z",
     "start_time": "2021-05-24T13:04:03.551783Z"
    }
   },
   "outputs": [
    {
     "name": "stdout",
     "output_type": "stream",
     "text": [
      "variable type <class 'int'> and it's id is 2206875151024.\n"
     ]
    }
   ],
   "source": [
    "#Declaration and variable assignment\n",
    "integer = 7703211211\n",
    "\n",
    "print(f\"variable type {type(integer)} and it's id is {id(integer)}.\")"
   ]
  },
  {
   "cell_type": "markdown",
   "metadata": {},
   "source": [
    "#### 2. Assigning two integer variables within 0-256 and checking their id's"
   ]
  },
  {
   "cell_type": "code",
   "execution_count": 2,
   "metadata": {
    "ExecuteTime": {
     "end_time": "2021-05-24T13:07:08.028817Z",
     "start_time": "2021-05-24T13:07:08.013817Z"
    }
   },
   "outputs": [
    {
     "name": "stdout",
     "output_type": "stream",
     "text": [
      "Id of a 140727416203328 and id of b 140727416203328\n",
      "True\n"
     ]
    }
   ],
   "source": [
    "#Assigning the variables\n",
    "a = 10\n",
    "b = 10\n",
    "print('Id of a',id(a),'and id of b',id(b))\n",
    "print(a is b)"
   ]
  },
  {
   "cell_type": "markdown",
   "metadata": {},
   "source": [
    "#### 3. Assigning two integer variables other than -5 to 256 and checking their id's"
   ]
  },
  {
   "cell_type": "code",
   "execution_count": 3,
   "metadata": {
    "ExecuteTime": {
     "end_time": "2021-05-24T13:09:46.261212Z",
     "start_time": "2021-05-24T13:09:46.248213Z"
    }
   },
   "outputs": [
    {
     "name": "stdout",
     "output_type": "stream",
     "text": [
      "Id of a 2206875151184 and id of b 2206875151280\n",
      "False\n"
     ]
    }
   ],
   "source": [
    "#Assigning the variables\n",
    "a = 257\n",
    "b = 257\n",
    "print('Id of a',id(a),'and id of b',id(b))\n",
    "print(a is b)"
   ]
  },
  {
   "cell_type": "markdown",
   "metadata": {},
   "source": [
    "#### 4. Arithmetic operations on integer"
   ]
  },
  {
   "cell_type": "code",
   "execution_count": 4,
   "metadata": {
    "ExecuteTime": {
     "end_time": "2021-05-24T13:17:19.296393Z",
     "start_time": "2021-05-24T13:17:19.290405Z"
    }
   },
   "outputs": [
    {
     "name": "stdout",
     "output_type": "stream",
     "text": [
      "Addition 30\n",
      "Difference 10\n",
      "Multiplication 200\n",
      "Float division 2.0\n",
      "Floor division 2\n",
      "Remainder 0\n",
      "Quotient 2\n",
      "Exponent 10240000000000\n"
     ]
    }
   ],
   "source": [
    "#Assignment of variables\n",
    "a = 20\n",
    "b = 10\n",
    "\n",
    "#Addition\n",
    "print('Addition',a+b)\n",
    "\n",
    "#Substraction\n",
    "print('Difference',a-b)\n",
    "\n",
    "#Multiplication\n",
    "print('Multiplication',a*b)\n",
    "\n",
    "#Float Division\n",
    "print('Float division',a/b)\n",
    "\n",
    "#Floor division\n",
    "print('Floor division',a//b)\n",
    "\n",
    "#Remainder\n",
    "print('Remainder',a%b)\n",
    "\n",
    "#Quotient\n",
    "print('Quotient',a//b)\n",
    "\n",
    "#Exponent\n",
    "print('Exponent',a**b)"
   ]
  },
  {
   "cell_type": "markdown",
   "metadata": {},
   "source": [
    "#### 5. Comparison operations on int"
   ]
  },
  {
   "cell_type": "code",
   "execution_count": 5,
   "metadata": {
    "ExecuteTime": {
     "end_time": "2021-05-24T13:29:31.308899Z",
     "start_time": "2021-05-24T13:29:31.298903Z"
    }
   },
   "outputs": [
    {
     "name": "stdout",
     "output_type": "stream",
     "text": [
      "False\n",
      "True\n",
      "False\n",
      "True\n"
     ]
    }
   ],
   "source": [
    "a = 10\n",
    "b = 20\n",
    "\n",
    "#Greater than comparison\n",
    "print(a>b)\n",
    "\n",
    "#Less than comparison\n",
    "print(a<b)\n",
    "\n",
    "#Greater than or equal \n",
    "print(a>=b)\n",
    "\n",
    "#less than or equal\n",
    "print(a<=b)"
   ]
  },
  {
   "cell_type": "markdown",
   "metadata": {},
   "source": [
    "#### 6. Equality operator on inetegers"
   ]
  },
  {
   "cell_type": "code",
   "execution_count": 6,
   "metadata": {
    "ExecuteTime": {
     "end_time": "2021-05-24T13:31:18.916018Z",
     "start_time": "2021-05-24T13:31:18.908025Z"
    }
   },
   "outputs": [
    {
     "name": "stdout",
     "output_type": "stream",
     "text": [
      "False\n",
      "True\n"
     ]
    }
   ],
   "source": [
    "a = 10\n",
    "b = 20\n",
    "\n",
    "print(a==b)\n",
    "print(a!=b)"
   ]
  },
  {
   "cell_type": "markdown",
   "metadata": {
    "ExecuteTime": {
     "end_time": "2021-05-24T13:32:01.772671Z",
     "start_time": "2021-05-24T13:32:01.760810Z"
    }
   },
   "source": [
    "#### 7. Logical operation"
   ]
  },
  {
   "cell_type": "code",
   "execution_count": 8,
   "metadata": {
    "ExecuteTime": {
     "end_time": "2021-05-24T13:36:32.981574Z",
     "start_time": "2021-05-24T13:36:32.975569Z"
    }
   },
   "outputs": [
    {
     "name": "stdout",
     "output_type": "stream",
     "text": [
      "20\n",
      "0\n",
      "0\n",
      "0\n",
      "****************************************\n",
      "10\n",
      "20\n",
      "20\n",
      "0\n",
      "****************************************\n",
      "False\n",
      "True\n"
     ]
    }
   ],
   "source": [
    "print(10 and 20)\n",
    "print(0 and 20)\n",
    "print(20 and 0)\n",
    "print(0 and 0)\n",
    "print('*'*40)\n",
    "print(10 or 20)\n",
    "print(0 or 20)\n",
    "print(20 or 0)\n",
    "print(0 or 0)\n",
    "print('*'*40)\n",
    "print(not 10)\n",
    "print(not 0)"
   ]
  },
  {
   "cell_type": "markdown",
   "metadata": {},
   "source": [
    "#### 8. Bitwise operations"
   ]
  },
  {
   "cell_type": "code",
   "execution_count": 9,
   "metadata": {
    "ExecuteTime": {
     "end_time": "2021-05-24T13:40:39.992180Z",
     "start_time": "2021-05-24T13:40:39.980183Z"
    }
   },
   "outputs": [
    {
     "name": "stdout",
     "output_type": "stream",
     "text": [
      "Bitwise and 0\n",
      "Bitwise or 30\n",
      "Bitwise xor 30\n",
      "Bitwise negation -11\n",
      "Bitwise left shift 40\n",
      "Bitwise right shift 2\n"
     ]
    }
   ],
   "source": [
    "print('Bitwise and',10 & 20)\n",
    "print('Bitwise or',10 | 20)\n",
    "print('Bitwise xor',10 ^ 20)\n",
    "print('Bitwise negation',~10)\n",
    "print('Bitwise left shift',10<<2)\n",
    "print('Bitwise right shift',10>>2)"
   ]
  },
  {
   "cell_type": "markdown",
   "metadata": {},
   "source": [
    "#### 9. Programs to check output"
   ]
  },
  {
   "cell_type": "code",
   "execution_count": 12,
   "metadata": {
    "ExecuteTime": {
     "end_time": "2021-05-24T13:43:21.942934Z",
     "start_time": "2021-05-24T13:43:21.928935Z"
    }
   },
   "outputs": [
    {
     "name": "stdout",
     "output_type": "stream",
     "text": [
      "True\n",
      "False\n",
      "False\n",
      "True\n"
     ]
    }
   ],
   "source": [
    "a = 10\n",
    "b = 10\n",
    "\n",
    "print(a is b)\n",
    "print(a is not b)\n",
    "\n",
    "a = 1000\n",
    "b = 1000\n",
    "\n",
    "print(a is b)\n",
    "print(a is not b)"
   ]
  },
  {
   "cell_type": "markdown",
   "metadata": {},
   "source": [
    "#### 10. Output of expression "
   ]
  },
  {
   "cell_type": "code",
   "execution_count": 13,
   "metadata": {
    "ExecuteTime": {
     "end_time": "2021-05-24T13:44:39.446054Z",
     "start_time": "2021-05-24T13:44:39.440065Z"
    }
   },
   "outputs": [
    {
     "name": "stdout",
     "output_type": "stream",
     "text": [
      "20\n"
     ]
    }
   ],
   "source": [
    "print(10+(10*32)//2**5&20+(~(-10))<<2)"
   ]
  },
  {
   "cell_type": "markdown",
   "metadata": {},
   "source": [
    "#### 11. Membership Operations"
   ]
  },
  {
   "cell_type": "code",
   "execution_count": 14,
   "metadata": {
    "ExecuteTime": {
     "end_time": "2021-05-24T13:45:38.946518Z",
     "start_time": "2021-05-24T13:45:38.837045Z"
    }
   },
   "outputs": [
    {
     "name": "stdout",
     "output_type": "stream",
     "text": [
      "True\n",
      "True\n",
      "True\n",
      "True\n",
      "True\n",
      "True\n"
     ]
    }
   ],
   "source": [
    "print('2' in 'Python2.7.8')\n",
    "print(10 in [10,10.20,10+20j,'Python'])\n",
    "print(10 in (10,10.20,10+20j,'Python'))\n",
    "print(2 in {1,2,3})\n",
    "print(3 in {1:100, 2:200, 3:300})\n",
    "print(10 in range(20))"
   ]
  },
  {
   "cell_type": "markdown",
   "metadata": {},
   "source": [
    "#### 12. Program"
   ]
  },
  {
   "cell_type": "code",
   "execution_count": 18,
   "metadata": {
    "ExecuteTime": {
     "end_time": "2021-05-24T13:53:05.048308Z",
     "start_time": "2021-05-24T13:53:05.030309Z"
    }
   },
   "outputs": [
    {
     "name": "stdout",
     "output_type": "stream",
     "text": [
      "Binary form of 9876 is 0b10011010010100\n",
      "Octal form of 9876 is 0o23224\n",
      "Hexadecimal form of 9876 is 0x2694\n"
     ]
    }
   ],
   "source": [
    "#Binary declaration\n",
    "a = 0b1010\n",
    "\n",
    "#Octal declaration\n",
    "b = 0o12\n",
    "\n",
    "#Hexadecimal declaration\n",
    "c = 0x14\n",
    "\n",
    "d = 9876\n",
    "print(f'Binary form of {d} is {bin(d)}')\n",
    "print(f'Octal form of {d} is {oct(d)}')\n",
    "print(f'Hexadecimal form of {d} is {hex(d)}')"
   ]
  },
  {
   "cell_type": "markdown",
   "metadata": {},
   "source": [
    "#### 13. Program to check output"
   ]
  },
  {
   "cell_type": "code",
   "execution_count": 19,
   "metadata": {
    "ExecuteTime": {
     "end_time": "2021-05-24T13:54:07.826461Z",
     "start_time": "2021-05-24T13:54:07.813121Z"
    }
   },
   "outputs": [
    {
     "name": "stdout",
     "output_type": "stream",
     "text": [
      "80\n",
      "3870\n",
      "64222\n",
      "0b1010000\n",
      "0o7436\n",
      "0xfade\n",
      "0b1010000\n",
      "0b1111101011011110\n",
      "0o175336\n",
      "0o7436\n",
      "0x50\n",
      "0xfade\n"
     ]
    }
   ],
   "source": [
    "a = 0b1010000\n",
    "print(a)\n",
    "b = 0o7436\n",
    "print(b)\n",
    "c = 0xfade\n",
    "print(c)\n",
    "print(bin(80))\n",
    "print(oct(3870))\n",
    "print(hex(64222))\n",
    "print(bin(0b1010000))\n",
    "print(bin(0xfade))\n",
    "print(oct(0xfade))\n",
    "print(oct(0o7436))\n",
    "print(hex(0b1010000))\n",
    "print(hex(0xfade))"
   ]
  }
 ],
 "metadata": {
  "kernelspec": {
   "display_name": "Python 3",
   "language": "python",
   "name": "python3"
  },
  "language_info": {
   "codemirror_mode": {
    "name": "ipython",
    "version": 3
   },
   "file_extension": ".py",
   "mimetype": "text/x-python",
   "name": "python",
   "nbconvert_exporter": "python",
   "pygments_lexer": "ipython3",
   "version": "3.8.5"
  }
 },
 "nbformat": 4,
 "nbformat_minor": 4
}
