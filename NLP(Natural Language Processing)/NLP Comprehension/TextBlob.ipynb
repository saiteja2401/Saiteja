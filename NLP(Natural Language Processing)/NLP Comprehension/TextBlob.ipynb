{
 "cells": [
  {
   "cell_type": "markdown",
   "metadata": {},
   "source": [
    "###                                    TextBlob Library Understanding"
   ]
  },
  {
   "cell_type": "code",
   "execution_count": 1,
   "metadata": {
    "ExecuteTime": {
     "end_time": "2021-09-03T02:43:13.780589Z",
     "start_time": "2021-09-03T02:42:46.864141Z"
    }
   },
   "outputs": [
    {
     "name": "stdout",
     "output_type": "stream",
     "text": [
      "Collecting textblob\n",
      "  Downloading textblob-0.15.3-py2.py3-none-any.whl (636 kB)\n",
      "Requirement already satisfied: nltk>=3.1 in c:\\users\\saite\\anaconda3\\lib\\site-packages (from textblob) (3.5)\n",
      "Requirement already satisfied: click in c:\\users\\saite\\anaconda3\\lib\\site-packages (from nltk>=3.1->textblob) (7.1.2)\n",
      "Requirement already satisfied: joblib in c:\\users\\saite\\anaconda3\\lib\\site-packages (from nltk>=3.1->textblob) (0.17.0)\n",
      "Requirement already satisfied: tqdm in c:\\users\\saite\\anaconda3\\lib\\site-packages (from nltk>=3.1->textblob) (4.50.2)\n",
      "Requirement already satisfied: regex in c:\\users\\saite\\anaconda3\\lib\\site-packages (from nltk>=3.1->textblob) (2020.10.15)\n",
      "Installing collected packages: textblob\n",
      "Successfully installed textblob-0.15.3\n"
     ]
    }
   ],
   "source": [
    "#Install TextBlob\n",
    "!pip install textblob"
   ]
  },
  {
   "cell_type": "code",
   "execution_count": 2,
   "metadata": {
    "ExecuteTime": {
     "end_time": "2021-09-03T02:44:43.136262Z",
     "start_time": "2021-09-03T02:43:56.650763Z"
    }
   },
   "outputs": [
    {
     "name": "stdout",
     "output_type": "stream",
     "text": [
      "Finished.\n"
     ]
    },
    {
     "name": "stderr",
     "output_type": "stream",
     "text": [
      "[nltk_data] Downloading package brown to\n",
      "[nltk_data]     C:\\Users\\saite\\AppData\\Roaming\\nltk_data...\n",
      "[nltk_data]   Unzipping corpora\\brown.zip.\n",
      "[nltk_data] Downloading package punkt to\n",
      "[nltk_data]     C:\\Users\\saite\\AppData\\Roaming\\nltk_data...\n",
      "[nltk_data]   Package punkt is already up-to-date!\n",
      "[nltk_data] Downloading package wordnet to\n",
      "[nltk_data]     C:\\Users\\saite\\AppData\\Roaming\\nltk_data...\n",
      "[nltk_data]   Package wordnet is already up-to-date!\n",
      "[nltk_data] Downloading package averaged_perceptron_tagger to\n",
      "[nltk_data]     C:\\Users\\saite\\AppData\\Roaming\\nltk_data...\n",
      "[nltk_data]   Package averaged_perceptron_tagger is already up-to-\n",
      "[nltk_data]       date!\n",
      "[nltk_data] Downloading package conll2000 to\n",
      "[nltk_data]     C:\\Users\\saite\\AppData\\Roaming\\nltk_data...\n",
      "[nltk_data]   Unzipping corpora\\conll2000.zip.\n",
      "[nltk_data] Downloading package movie_reviews to\n",
      "[nltk_data]     C:\\Users\\saite\\AppData\\Roaming\\nltk_data...\n",
      "[nltk_data]   Unzipping corpora\\movie_reviews.zip.\n"
     ]
    }
   ],
   "source": [
    "#Download models\n",
    "!python -m textblob.download_corpora #Downloads all the required models at once"
   ]
  },
  {
   "cell_type": "code",
   "execution_count": 3,
   "metadata": {
    "ExecuteTime": {
     "end_time": "2021-09-03T02:45:30.339263Z",
     "start_time": "2021-09-03T02:45:27.867382Z"
    }
   },
   "outputs": [],
   "source": [
    "#Importing\n",
    "from textblob import TextBlob"
   ]
  },
  {
   "cell_type": "code",
   "execution_count": 36,
   "metadata": {
    "ExecuteTime": {
     "end_time": "2021-09-03T02:59:00.215499Z",
     "start_time": "2021-09-03T02:59:00.206499Z"
    }
   },
   "outputs": [],
   "source": [
    "data = TextBlob('I love Natural language Processing, not you! I am a messi fan')"
   ]
  },
  {
   "cell_type": "code",
   "execution_count": 37,
   "metadata": {
    "ExecuteTime": {
     "end_time": "2021-09-03T02:59:02.419882Z",
     "start_time": "2021-09-03T02:59:02.409128Z"
    }
   },
   "outputs": [
    {
     "data": {
      "text/plain": [
       "[('I', 'PRP'),\n",
       " ('love', 'VBP'),\n",
       " ('Natural', 'JJ'),\n",
       " ('language', 'NN'),\n",
       " ('Processing', 'NNP'),\n",
       " ('not', 'RB'),\n",
       " ('you', 'PRP'),\n",
       " ('I', 'PRP'),\n",
       " ('am', 'VBP'),\n",
       " ('a', 'DT'),\n",
       " ('messi', 'NN'),\n",
       " ('fan', 'NN')]"
      ]
     },
     "execution_count": 37,
     "metadata": {},
     "output_type": "execute_result"
    }
   ],
   "source": [
    "#POS tagging\n",
    "data.tags"
   ]
  },
  {
   "cell_type": "code",
   "execution_count": 38,
   "metadata": {
    "ExecuteTime": {
     "end_time": "2021-09-03T02:59:07.297382Z",
     "start_time": "2021-09-03T02:59:07.284388Z"
    }
   },
   "outputs": [
    {
     "data": {
      "text/plain": [
       "WordList(['natural language', 'processing', 'messi fan'])"
      ]
     },
     "execution_count": 38,
     "metadata": {},
     "output_type": "execute_result"
    }
   ],
   "source": [
    "#Noun phrase extraction\n",
    "data.noun_phrases"
   ]
  },
  {
   "cell_type": "markdown",
   "metadata": {},
   "source": [
    "### Tokenization"
   ]
  },
  {
   "cell_type": "code",
   "execution_count": 39,
   "metadata": {
    "ExecuteTime": {
     "end_time": "2021-09-03T02:59:09.478770Z",
     "start_time": "2021-09-03T02:59:09.462769Z"
    }
   },
   "outputs": [
    {
     "data": {
      "text/plain": [
       "WordList(['I', 'love', 'Natural', 'language', 'Processing', 'not', 'you', 'I', 'am', 'a', 'messi', 'fan'])"
      ]
     },
     "execution_count": 39,
     "metadata": {},
     "output_type": "execute_result"
    }
   ],
   "source": [
    "#word\n",
    "data.words"
   ]
  },
  {
   "cell_type": "code",
   "execution_count": 40,
   "metadata": {
    "ExecuteTime": {
     "end_time": "2021-09-03T02:59:11.356647Z",
     "start_time": "2021-09-03T02:59:11.351646Z"
    }
   },
   "outputs": [
    {
     "data": {
      "text/plain": [
       "[Sentence(\"I love Natural language Processing, not you!\"),\n",
       " Sentence(\"I am a messi fan\")]"
      ]
     },
     "execution_count": 40,
     "metadata": {},
     "output_type": "execute_result"
    }
   ],
   "source": [
    "#Sentence\n",
    "data.sentences"
   ]
  },
  {
   "cell_type": "markdown",
   "metadata": {},
   "source": [
    "##### Word Inflation"
   ]
  },
  {
   "cell_type": "code",
   "execution_count": 118,
   "metadata": {
    "ExecuteTime": {
     "end_time": "2021-09-03T04:09:47.860767Z",
     "start_time": "2021-09-03T04:09:47.856767Z"
    }
   },
   "outputs": [],
   "source": [
    "sent = TextBlob('Use 4 spaces per indentation level')"
   ]
  },
  {
   "cell_type": "code",
   "execution_count": 119,
   "metadata": {
    "ExecuteTime": {
     "end_time": "2021-09-03T04:09:49.987692Z",
     "start_time": "2021-09-03T04:09:49.974344Z"
    }
   },
   "outputs": [
    {
     "data": {
      "text/plain": [
       "WordList(['Use', '4', 'spaces', 'per', 'indentation', 'level'])"
      ]
     },
     "execution_count": 119,
     "metadata": {},
     "output_type": "execute_result"
    }
   ],
   "source": [
    "sent.words"
   ]
  },
  {
   "cell_type": "code",
   "execution_count": 34,
   "metadata": {
    "ExecuteTime": {
     "end_time": "2021-09-03T02:54:46.082932Z",
     "start_time": "2021-09-03T02:54:46.066179Z"
    }
   },
   "outputs": [
    {
     "data": {
      "text/plain": [
       "'spacess'"
      ]
     },
     "execution_count": 34,
     "metadata": {},
     "output_type": "execute_result"
    }
   ],
   "source": [
    "#Converts singular to plural but not accurate\n",
    "sent.words[2].pluralize()"
   ]
  },
  {
   "cell_type": "code",
   "execution_count": 35,
   "metadata": {
    "ExecuteTime": {
     "end_time": "2021-09-03T02:56:51.256133Z",
     "start_time": "2021-09-03T02:56:51.235142Z"
    }
   },
   "outputs": [
    {
     "data": {
      "text/plain": [
       "'space'"
      ]
     },
     "execution_count": 35,
     "metadata": {},
     "output_type": "execute_result"
    }
   ],
   "source": [
    "#Converts plural to singular but not accurate\n",
    "sent.words[2].singularize()"
   ]
  },
  {
   "cell_type": "markdown",
   "metadata": {},
   "source": [
    "##### Stemming"
   ]
  },
  {
   "cell_type": "code",
   "execution_count": 43,
   "metadata": {
    "ExecuteTime": {
     "end_time": "2021-09-03T03:01:35.646545Z",
     "start_time": "2021-09-03T03:01:35.636558Z"
    }
   },
   "outputs": [
    {
     "data": {
      "text/plain": [
       "'histori'"
      ]
     },
     "execution_count": 43,
     "metadata": {},
     "output_type": "execute_result"
    }
   ],
   "source": [
    "from textblob import Word\n",
    "q = Word('history')\n",
    "q.stem()"
   ]
  },
  {
   "cell_type": "markdown",
   "metadata": {},
   "source": [
    "##### Lematization"
   ]
  },
  {
   "cell_type": "code",
   "execution_count": 48,
   "metadata": {
    "ExecuteTime": {
     "end_time": "2021-09-03T03:03:15.973270Z",
     "start_time": "2021-09-03T03:03:15.967275Z"
    }
   },
   "outputs": [
    {
     "data": {
      "text/plain": [
       "'history'"
      ]
     },
     "execution_count": 48,
     "metadata": {},
     "output_type": "execute_result"
    }
   ],
   "source": [
    "q = Word('histories')\n",
    "q.lemmatize()"
   ]
  },
  {
   "cell_type": "code",
   "execution_count": 55,
   "metadata": {
    "ExecuteTime": {
     "end_time": "2021-09-03T03:06:58.388494Z",
     "start_time": "2021-09-03T03:06:58.255689Z"
    }
   },
   "outputs": [
    {
     "data": {
      "text/plain": [
       "['a barrier set up by police to stop traffic on a street or road in order to catch a fugitive or inspect traffic etc.',\n",
       " 'a barrier (usually thrown up hastily) to impede the advance of an enemy',\n",
       " 'render unsuitable for passage',\n",
       " 'prevent access to by barricading',\n",
       " 'block off with barricades']"
      ]
     },
     "execution_count": 55,
     "metadata": {},
     "output_type": "execute_result"
    }
   ],
   "source": [
    "#Meaning of the word, works like a dictionary\n",
    "\n",
    "Word('barricade').definitions"
   ]
  },
  {
   "cell_type": "code",
   "execution_count": 65,
   "metadata": {
    "ExecuteTime": {
     "end_time": "2021-09-03T03:10:41.540922Z",
     "start_time": "2021-09-03T03:10:40.720559Z"
    }
   },
   "outputs": [
    {
     "data": {
      "text/plain": [
       "TextBlob(\"can you pronounce czechoslovakia?\")"
      ]
     },
     "execution_count": 65,
     "metadata": {},
     "output_type": "execute_result"
    }
   ],
   "source": [
    "#Spelling correction\n",
    "\n",
    "g = TextBlob('can you pronounce czechusovakia?')\n",
    "g.correct()"
   ]
  },
  {
   "cell_type": "code",
   "execution_count": 73,
   "metadata": {
    "ExecuteTime": {
     "end_time": "2021-09-03T03:14:51.379361Z",
     "start_time": "2021-09-03T03:14:51.160218Z"
    }
   },
   "outputs": [
    {
     "data": {
      "text/plain": [
       "TextBlob(\"can you pronounce psychic?\")"
      ]
     },
     "execution_count": 73,
     "metadata": {},
     "output_type": "execute_result"
    }
   ],
   "source": [
    "g = TextBlob('can you pronounce psycho?')\n",
    "g.correct()"
   ]
  },
  {
   "cell_type": "code",
   "execution_count": 69,
   "metadata": {
    "ExecuteTime": {
     "end_time": "2021-09-03T03:12:08.735155Z",
     "start_time": "2021-09-03T03:12:08.511496Z"
    }
   },
   "outputs": [
    {
     "data": {
      "text/plain": [
       "[('psychic', 1.0)]"
      ]
     },
     "execution_count": 69,
     "metadata": {},
     "output_type": "execute_result"
    }
   ],
   "source": [
    "k = Word('psycho')\n",
    "k.spellcheck()"
   ]
  },
  {
   "cell_type": "code",
   "execution_count": 79,
   "metadata": {
    "ExecuteTime": {
     "end_time": "2021-09-03T03:30:05.768218Z",
     "start_time": "2021-09-03T03:30:05.756215Z"
    }
   },
   "outputs": [
    {
     "data": {
      "text/plain": [
       "1"
      ]
     },
     "execution_count": 79,
     "metadata": {},
     "output_type": "execute_result"
    }
   ],
   "source": [
    "#Word count\n",
    "\n",
    "sent = TextBlob('she is not from here. No one knows it.')\n",
    "\n",
    "sent.word_counts['No'] #converts our sentence to lowercase backend \n",
    "\n",
    "sent.words.count('No', case_sensitive = True) #Which gives exact match "
   ]
  },
  {
   "cell_type": "code",
   "execution_count": 86,
   "metadata": {
    "ExecuteTime": {
     "end_time": "2021-09-03T03:42:18.033002Z",
     "start_time": "2021-09-03T03:42:16.853389Z"
    }
   },
   "outputs": [
    {
     "data": {
      "text/plain": [
       "TextBlob(\"ಯಾವುದಕ್ಕಿಂತ ಯಾವುದೋ ಉತ್ತಮವಾಗಿದೆ\")"
      ]
     },
     "execution_count": 86,
     "metadata": {},
     "output_type": "execute_result"
    }
   ],
   "source": [
    "#Translation and language detection\n",
    "blob = TextBlob('Something is better than nothing')\n",
    "blob.translate(to = 'kn')"
   ]
  },
  {
   "cell_type": "code",
   "execution_count": 89,
   "metadata": {
    "ExecuteTime": {
     "end_time": "2021-09-03T03:43:45.586024Z",
     "start_time": "2021-09-03T03:43:44.478849Z"
    }
   },
   "outputs": [
    {
     "data": {
      "text/plain": [
       "'kn'"
      ]
     },
     "execution_count": 89,
     "metadata": {},
     "output_type": "execute_result"
    }
   ],
   "source": [
    "blob = TextBlob('ಯಾವುದಕ್ಕಿಂತ ಯಾವುದೋ ಉತ್ತಮವಾಗಿದೆ')\n",
    "blob.detect_language()"
   ]
  },
  {
   "cell_type": "code",
   "execution_count": 112,
   "metadata": {
    "ExecuteTime": {
     "end_time": "2021-09-03T04:04:39.108129Z",
     "start_time": "2021-09-03T04:04:39.015144Z"
    }
   },
   "outputs": [
    {
     "name": "stdout",
     "output_type": "stream",
     "text": [
      "election commission friday assam minister bjp leader himanta biswa sarma assam election hour effect today sarma remark opposition leader hagrama mohilary bodoland people front ec thursday sarma explanation today remark\n"
     ]
    }
   ],
   "source": [
    "text3 = \"\"\"The Election Commission on Friday debarred Assam Minister and BJP leader Himanta Biswa Sarma from campaigning for ongoing Assam elections for 48 hours with effect from today. This came after Sarma allegedly made threatening remarks against opposition leader Hagrama Mohilary of the Bodoland People's Front. EC had on Thursday asked Sarma for an explanation by today over his remarks.\"\"\"\n",
    "word = TextBlob(text3.lower())\n",
    "final = []\n",
    "for i in word.words:\n",
    "    i = Word(i).lemmatize()\n",
    "    if 'NN' in TextBlob(i).tags[0][1]:\n",
    "        final.append(i)\n",
    "print(' '.join(final))"
   ]
  },
  {
   "cell_type": "code",
   "execution_count": 95,
   "metadata": {
    "ExecuteTime": {
     "end_time": "2021-09-03T03:56:35.597259Z",
     "start_time": "2021-09-03T03:56:35.578260Z"
    }
   },
   "outputs": [],
   "source": [
    "#Classification \n",
    "\n",
    "#Load data\n",
    "\n",
    "train = [\n",
    "     ('I love this sandwich.', 'pos'),\n",
    "     ('this is an amazing place!', 'pos'),\n",
    "     ('I feel very good about these beers.', 'pos'),\n",
    "     ('this is my best work.', 'pos'),\n",
    "     (\"what an awesome view\", 'pos'),\n",
    "     ('I do not like this restaurant', 'neg'),\n",
    "     ('I am tired of this stuff.', 'neg'),\n",
    "     (\"I can't deal with this\", 'neg'),\n",
    "     ('he is my sworn enemy!', 'neg'),\n",
    "     ('my boss is horrible.', 'neg')\n",
    "]\n",
    "\n",
    "test = [\n",
    "     ('the beer was good.', 'pos'),\n",
    "     ('I do not enjoy my job', 'neg'),\n",
    "     (\"I ain't feeling dandy today.\", 'neg'),\n",
    "     (\"I feel amazing!\", 'pos'),\n",
    "     ('Gary is a friend of mine.', 'pos'),\n",
    "     (\"I can't believe I'm doing this.\", 'neg')\n",
    "]\n",
    "\n",
    "\n"
   ]
  },
  {
   "cell_type": "code",
   "execution_count": 96,
   "metadata": {
    "ExecuteTime": {
     "end_time": "2021-09-03T03:56:38.624923Z",
     "start_time": "2021-09-03T03:56:38.603934Z"
    }
   },
   "outputs": [],
   "source": [
    "from textblob.classifiers import NaiveBayesClassifier\n",
    "cl = NaiveBayesClassifier(train)"
   ]
  },
  {
   "cell_type": "code",
   "execution_count": 97,
   "metadata": {
    "ExecuteTime": {
     "end_time": "2021-09-03T03:56:41.161560Z",
     "start_time": "2021-09-03T03:56:41.140553Z"
    }
   },
   "outputs": [
    {
     "data": {
      "text/plain": [
       "0.8333333333333334"
      ]
     },
     "execution_count": 97,
     "metadata": {},
     "output_type": "execute_result"
    }
   ],
   "source": [
    "cl.accuracy(test)"
   ]
  },
  {
   "cell_type": "code",
   "execution_count": 101,
   "metadata": {
    "ExecuteTime": {
     "end_time": "2021-09-03T03:57:49.608691Z",
     "start_time": "2021-09-03T03:57:49.602690Z"
    }
   },
   "outputs": [
    {
     "data": {
      "text/plain": [
       "'neg'"
      ]
     },
     "execution_count": 101,
     "metadata": {},
     "output_type": "execute_result"
    }
   ],
   "source": [
    "cl.classify('do not like library')"
   ]
  },
  {
   "cell_type": "code",
   "execution_count": 113,
   "metadata": {
    "ExecuteTime": {
     "end_time": "2021-09-03T04:05:21.128319Z",
     "start_time": "2021-09-03T04:05:21.119066Z"
    }
   },
   "outputs": [],
   "source": [
    "prob_dist = cl.prob_classify('this is the worst library')"
   ]
  },
  {
   "cell_type": "code",
   "execution_count": 114,
   "metadata": {
    "ExecuteTime": {
     "end_time": "2021-09-03T04:05:58.283378Z",
     "start_time": "2021-09-03T04:05:58.263479Z"
    }
   },
   "outputs": [
    {
     "data": {
      "text/plain": [
       "0.3688524590163936"
      ]
     },
     "execution_count": 114,
     "metadata": {},
     "output_type": "execute_result"
    }
   ],
   "source": [
    "prob_dist.prob('neg')"
   ]
  },
  {
   "cell_type": "code",
   "execution_count": 115,
   "metadata": {
    "ExecuteTime": {
     "end_time": "2021-09-03T04:06:16.566758Z",
     "start_time": "2021-09-03T04:06:16.558759Z"
    }
   },
   "outputs": [
    {
     "data": {
      "text/plain": [
       "0.6311475409836058"
      ]
     },
     "execution_count": 115,
     "metadata": {},
     "output_type": "execute_result"
    }
   ],
   "source": [
    "prob_dist.prob('pos')"
   ]
  },
  {
   "cell_type": "code",
   "execution_count": null,
   "metadata": {},
   "outputs": [],
   "source": [
    "#To train our above model with new data\n",
    "cl.update(new_data) #Which increase our model accuracy"
   ]
  }
 ],
 "metadata": {
  "kernelspec": {
   "display_name": "Python 3",
   "language": "python",
   "name": "python3"
  },
  "language_info": {
   "codemirror_mode": {
    "name": "ipython",
    "version": 3
   },
   "file_extension": ".py",
   "mimetype": "text/x-python",
   "name": "python",
   "nbconvert_exporter": "python",
   "pygments_lexer": "ipython3",
   "version": "3.8.5"
  }
 },
 "nbformat": 4,
 "nbformat_minor": 4
}
