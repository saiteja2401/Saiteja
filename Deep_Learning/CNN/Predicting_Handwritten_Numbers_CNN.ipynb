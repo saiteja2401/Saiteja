{
  "nbformat": 4,
  "nbformat_minor": 0,
  "metadata": {
    "colab": {
      "name": "Mnist_CNN.ipynb",
      "provenance": [],
      "collapsed_sections": []
    },
    "kernelspec": {
      "name": "python3",
      "display_name": "Python 3"
    },
    "language_info": {
      "name": "python"
    },
    "accelerator": "GPU"
  },
  "cells": [
    {
      "cell_type": "markdown",
      "metadata": {
        "id": "9nB-VF3A1xLz"
      },
      "source": [
        "## **Predicting The Handwritten Numbers Using CNN**"
      ]
    },
    {
      "cell_type": "code",
      "metadata": {
        "id": "TsEdtNmi7fb-"
      },
      "source": [
        "#importing the libraries\n",
        "import tensorflow\n",
        "import matplotlib.pyplot as plt\n",
        "from tensorflow.keras.layers import Conv2D, MaxPool2D, Flatten, Dense, Dropout\n",
        "from tensorflow.keras.models import Sequential\n",
        "from tensorflow.keras.datasets import mnist\n",
        "import numpy as np\n"
      ],
      "execution_count": 1,
      "outputs": []
    },
    {
      "cell_type": "code",
      "metadata": {
        "id": "nbFKh_9H84ln",
        "colab": {
          "base_uri": "https://localhost:8080/"
        },
        "outputId": "81487de4-bd31-4dea-a6a8-ccd59b9b6e5f"
      },
      "source": [
        "#Loading the dataset\n",
        "(X_train, y_train), (X_test, y_test) = mnist.load_data()"
      ],
      "execution_count": 2,
      "outputs": [
        {
          "output_type": "stream",
          "text": [
            "Downloading data from https://storage.googleapis.com/tensorflow/tf-keras-datasets/mnist.npz\n",
            "11493376/11490434 [==============================] - 0s 0us/step\n",
            "11501568/11490434 [==============================] - 0s 0us/step\n"
          ],
          "name": "stdout"
        }
      ]
    },
    {
      "cell_type": "code",
      "metadata": {
        "colab": {
          "base_uri": "https://localhost:8080/"
        },
        "id": "4i1qARFF84ou",
        "outputId": "f5693188-9230-42cb-906e-8f5f441468ad"
      },
      "source": [
        "classes = np.unique(y_train).tolist()\n",
        "classes"
      ],
      "execution_count": 3,
      "outputs": [
        {
          "output_type": "execute_result",
          "data": {
            "text/plain": [
              "[0, 1, 2, 3, 4, 5, 6, 7, 8, 9]"
            ]
          },
          "metadata": {},
          "execution_count": 3
        }
      ]
    },
    {
      "cell_type": "code",
      "metadata": {
        "id": "SQgJOr4S84wS",
        "colab": {
          "base_uri": "https://localhost:8080/",
          "height": 282
        },
        "outputId": "343ac497-1c73-486e-bb9e-5c442ca1e9c9"
      },
      "source": [
        "#Visualizing the data\n",
        "plt.imshow(X_train[1])\n",
        "classes[y_train[1]]"
      ],
      "execution_count": 4,
      "outputs": [
        {
          "output_type": "execute_result",
          "data": {
            "text/plain": [
              "0"
            ]
          },
          "metadata": {},
          "execution_count": 4
        },
        {
          "output_type": "display_data",
          "data": {
            "image/png": "[encoded data removed]",
            "text/plain": [
              "<Figure size 432x288 with 1 Axes>"
            ]
          },
          "metadata": {
            "needs_background": "light"
          }
        }
      ]
    },
    {
      "cell_type": "code",
      "metadata": {
        "id": "jCdzb4Bw84yw"
      },
      "source": [
        "#Normalizing the image\n",
        "\n",
        "X_train, X_test = X_train/255, X_test/255\n",
        "X_train = X_train.reshape(X_train.shape[0], 28, 28, 1)\n",
        "X_test = X_test.reshape(X_test.shape[0], 28, 28, 1)"
      ],
      "execution_count": 5,
      "outputs": []
    },
    {
      "cell_type": "code",
      "metadata": {
        "id": "s7ht9oz4841D",
        "colab": {
          "base_uri": "https://localhost:8080/"
        },
        "outputId": "787ca8e3-1839-4e5c-dd56-d461f64b4002"
      },
      "source": [
        "# 1. Model architechture\n",
        "# 2. Compile\n",
        "# 3. fit\n",
        "X_train.shape"
      ],
      "execution_count": 6,
      "outputs": [
        {
          "output_type": "execute_result",
          "data": {
            "text/plain": [
              "(60000, 28, 28, 1)"
            ]
          },
          "metadata": {},
          "execution_count": 6
        }
      ]
    },
    {
      "cell_type": "code",
      "metadata": {
        "id": "v2tjVh06843V"
      },
      "source": [
        "#1. Model Architechture\n",
        "model = Sequential()\n",
        "\n",
        "#Convolutional layer 1, need to be increased subsequently\n",
        "model.add(Conv2D(10, 3, activation='relu', kernel_initializer='he_uniform'))\n",
        "model.add(MaxPool2D())\n",
        "\n",
        "#Convolutional layer 2, need to be increased subsequently\n",
        "model.add(Conv2D(20, 3, activation='relu', kernel_initializer='he_uniform'))\n",
        "model.add(MaxPool2D())\n",
        "\n",
        "#Convolutional layer 3, need to be increased subsequently\n",
        "model.add(Conv2D(40, 3, activation='relu', kernel_initializer='he_uniform'))\n",
        "model.add(MaxPool2D())\n",
        "\n",
        "#Flatten\n",
        "model.add(Flatten())\n",
        "\n",
        "#Hidden layer 1\n",
        "model.add(Dense(150, activation='relu', kernel_initializer='he_uniform'))\n",
        "model.add(Dropout(0.2))\n",
        "\n",
        "#Hidden layer 2\n",
        "model.add(Dense(75, activation='relu', kernel_initializer = 'he_normal'))\n",
        "model.add(Dropout(0.4))\n",
        "\n",
        "#Hidden layer 3\n",
        "model.add(Dense(40, activation='relu', kernel_initializer='he_uniform'))\n",
        "model.add(Dropout(0.5))\n",
        "\n",
        "#Output layer\n",
        "model.add(Dense(10, activation='softmax'))"
      ],
      "execution_count": 8,
      "outputs": []
    },
    {
      "cell_type": "code",
      "metadata": {
        "id": "mrMGumEF845l"
      },
      "source": [
        "model.compile(optimizer='adam', loss= tensorflow.keras.losses.SparseCategoricalCrossentropy(), metrics=['accuracy'])"
      ],
      "execution_count": 9,
      "outputs": []
    },
    {
      "cell_type": "code",
      "metadata": {
        "id": "J7nUEIBS848C",
        "colab": {
          "base_uri": "https://localhost:8080/"
        },
        "outputId": "45fb89d7-b2cb-4876-ca8f-3ff4d2f325b9"
      },
      "source": [
        "model.fit(X_train, y_train, epochs = 20, batch_size=80)"
      ],
      "execution_count": 10,
      "outputs": [
        {
          "output_type": "stream",
          "text": [
            "Epoch 1/20\n",
            "750/750 [==============================] - 33s 6ms/step - loss: 1.0239 - accuracy: 0.6623\n",
            "Epoch 2/20\n",
            "750/750 [==============================] - 4s 6ms/step - loss: 0.3114 - accuracy: 0.9203\n",
            "Epoch 3/20\n",
            "750/750 [==============================] - 5s 6ms/step - loss: 0.2257 - accuracy: 0.9452\n",
            "Epoch 4/20\n",
            "750/750 [==============================] - 4s 5ms/step - loss: 0.1820 - accuracy: 0.9565\n",
            "Epoch 5/20\n",
            "750/750 [==============================] - 4s 6ms/step - loss: 0.1575 - accuracy: 0.9641\n",
            "Epoch 6/20\n",
            "750/750 [==============================] - 4s 6ms/step - loss: 0.1417 - accuracy: 0.9659\n",
            "Epoch 7/20\n",
            "750/750 [==============================] - 4s 6ms/step - loss: 0.1247 - accuracy: 0.9710\n",
            "Epoch 8/20\n",
            "750/750 [==============================] - 4s 6ms/step - loss: 0.1163 - accuracy: 0.9732\n",
            "Epoch 9/20\n",
            "750/750 [==============================] - 4s 6ms/step - loss: 0.1084 - accuracy: 0.9752\n",
            "Epoch 10/20\n",
            "750/750 [==============================] - 4s 6ms/step - loss: 0.0988 - accuracy: 0.9773\n",
            "Epoch 11/20\n",
            "750/750 [==============================] - 4s 6ms/step - loss: 0.0946 - accuracy: 0.9768\n",
            "Epoch 12/20\n",
            "750/750 [==============================] - 4s 6ms/step - loss: 0.0894 - accuracy: 0.9786\n",
            "Epoch 13/20\n",
            "750/750 [==============================] - 4s 6ms/step - loss: 0.0869 - accuracy: 0.9792\n",
            "Epoch 14/20\n",
            "750/750 [==============================] - 4s 6ms/step - loss: 0.0764 - accuracy: 0.9819\n",
            "Epoch 15/20\n",
            "750/750 [==============================] - 4s 6ms/step - loss: 0.0760 - accuracy: 0.9815\n",
            "Epoch 16/20\n",
            "750/750 [==============================] - 4s 6ms/step - loss: 0.0734 - accuracy: 0.9821\n",
            "Epoch 17/20\n",
            "750/750 [==============================] - 4s 6ms/step - loss: 0.0682 - accuracy: 0.9838\n",
            "Epoch 18/20\n",
            "750/750 [==============================] - 6s 7ms/step - loss: 0.0646 - accuracy: 0.9841\n",
            "Epoch 19/20\n",
            "750/750 [==============================] - 4s 6ms/step - loss: 0.0674 - accuracy: 0.9842\n",
            "Epoch 20/20\n",
            "750/750 [==============================] - 4s 6ms/step - loss: 0.0615 - accuracy: 0.9851\n"
          ],
          "name": "stdout"
        },
        {
          "output_type": "execute_result",
          "data": {
            "text/plain": [
              "<keras.callbacks.History at 0x7f8ad01bdf50>"
            ]
          },
          "metadata": {},
          "execution_count": 10
        }
      ]
    },
    {
      "cell_type": "code",
      "metadata": {
        "id": "XeaPzOEh84-R",
        "colab": {
          "base_uri": "https://localhost:8080/"
        },
        "outputId": "73514522-cea1-4e46-edbf-dd14f7748a9e"
      },
      "source": [
        "model.evaluate(X_test, y_test)"
      ],
      "execution_count": 11,
      "outputs": [
        {
          "output_type": "stream",
          "text": [
            "313/313 [==============================] - 1s 3ms/step - loss: 0.0931 - accuracy: 0.9829\n"
          ],
          "name": "stdout"
        },
        {
          "output_type": "execute_result",
          "data": {
            "text/plain": [
              "[0.09305364638566971, 0.9829000234603882]"
            ]
          },
          "metadata": {},
          "execution_count": 11
        }
      ]
    },
    {
      "cell_type": "code",
      "metadata": {
        "id": "otK1WnDs85C9"
      },
      "source": [
        "#Prediction\n",
        "y_pred = model.predict(X_test)"
      ],
      "execution_count": 12,
      "outputs": []
    },
    {
      "cell_type": "code",
      "metadata": {
        "id": "xgEb1M-v85E7",
        "colab": {
          "base_uri": "https://localhost:8080/",
          "height": 315
        },
        "outputId": "777961fb-efc4-4bbd-cdd7-f50f33756b36"
      },
      "source": [
        "image_row = 19\n",
        "\n",
        "print('Predicted as - ', str(classes[np.argmax(y_pred[image_row])]))\n",
        "print('Actual is - ', str(y_test[image_row]))\n",
        "plt.imshow(X_test[image_row].reshape(28,28))\n"
      ],
      "execution_count": 35,
      "outputs": [
        {
          "output_type": "stream",
          "text": [
            "Predicted as -  4\n",
            "Actual is -  4\n"
          ],
          "name": "stdout"
        },
        {
          "output_type": "execute_result",
          "data": {
            "text/plain": [
              "<matplotlib.image.AxesImage at 0x7f8a35c6aad0>"
            ]
          },
          "metadata": {},
          "execution_count": 35
        },
        {
          "output_type": "display_data",
          "data": {
            "image/png": "[encoded data removed]",
            "text/plain": [
              "<Figure size 432x288 with 1 Axes>"
            ]
          },
          "metadata": {
            "needs_background": "light"
          }
        }
      ]
    },
    {
      "cell_type": "code",
      "metadata": {
        "id": "NF8fzuXX85HF"
      },
      "source": [
        ""
      ],
      "execution_count": 35,
      "outputs": []
    },
    {
      "cell_type": "code",
      "metadata": {
        "id": "a2Sxnu-H85Ol"
      },
      "source": [
        ""
      ],
      "execution_count": null,
      "outputs": []
    },
    {
      "cell_type": "code",
      "metadata": {
        "id": "Vv497W1F85Qn"
      },
      "source": [
        ""
      ],
      "execution_count": null,
      "outputs": []
    },
    {
      "cell_type": "code",
      "metadata": {
        "id": "pQbn2EwX85Ty"
      },
      "source": [
        ""
      ],
      "execution_count": null,
      "outputs": []
    }
  ]
}